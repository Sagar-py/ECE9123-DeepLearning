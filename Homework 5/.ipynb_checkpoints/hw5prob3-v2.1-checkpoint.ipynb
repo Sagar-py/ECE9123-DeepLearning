{
 "cells": [
  {
   "cell_type": "markdown",
   "metadata": {},
   "source": [
    "# Homework Assignment - 5\n",
    "---\n",
    "\n",
    "**Name:** Sagar Patel\n",
    "\n",
    "**NETID:** sp5894"
   ]
  },
  {
   "cell_type": "markdown",
   "metadata": {},
   "source": [
    "## Question 1\n",
    "\n",
    "*Policy gradients*. In class we derived a general form of policy gradients. Let us consider a special case here. Suppose the step size is $\\eta$. We consider where past actions and states do not matter; different actions $a_i$ give rise to different rewards $R_i$."
   ]
  },
  {
   "cell_type": "markdown",
   "metadata": {},
   "source": [
    "### 1.a\n",
    "Define the mapping $\\pi$ such that $\\pi(a_i) = \\text{softmax}(θi) \\text{ for } i = 1,...,k$, where $k$ is the total number of actions and $θ_i$ is a scalar parameter encoding the value of each action. Show that if action $a_i$ is sampled, then the change in the parameters in REINFORCE is given by:\n",
    "$\\Delta \\theta_i = \\eta R_i(1- \\pi(a_i))$\n",
    "\n",
    "**Solution:**\n",
    "\n",
    "$\\pi(a_i) = softmax(\\theta_i)$\n",
    "\n",
    "$\\Rightarrow \\theta_i = \\frac{e^{\\theta_i}}{\\sum e^{\\theta_i}}$\n",
    "\n",
    "Differentiating this, we get $\\Rightarrow \\theta'_i = \\theta_i -\\frac{\\partial}{\\partial{\\theta_i}} E[R_t]$\n",
    "\n",
    "$\\Rightarrow \\theta'_i = \\theta_i - \\eta R(\\tau)\\frac{\\partial}{\\partial{\\theta_i}} log \\pi(\\theta_i)$\n",
    "\n",
    "Therefore, $\\delta \\theta_i = \\eta R(\\tau) \\frac{\\partial}{\\partial{\\theta_i}} log\\pi(\\theta_i)$ ..... (1)\n",
    "\n",
    "$\\frac{\\partial}{\\partial{\\theta_i}} log\\pi(\\theta_i) = \\frac{\\partial}{\\partial{\\theta_i}} log(\\frac{e^{\\theta_i}}{\\sum e^{\\theta_i}})$\n",
    "\n",
    "$\\Rightarrow \\frac{\\partial}{\\partial \\theta_i}(log e^{\\theta_i}) = \\frac{\\partial}{\\partial \\theta_i} log \\sum e^{\\theta_i}$\n",
    "\n",
    "$\\Rightarrow 1 - \\frac{e^{\\theta_i}}{\\sum e^{\\theta_i}}$\n",
    "\n",
    "$\\Rightarrow 1 - \\pi(a_i)$ ..... (2)\n",
    "\n",
    "Comparing (1) and (2), we get -\n",
    "\n",
    "Therefore, $\\Delta \\theta = \\eta R(\\tau)(1-\\pi(a_i))$"
   ]
  },
  {
   "cell_type": "markdown",
   "metadata": {},
   "source": [
    "### 1.b\n",
    "Intuitively explain the dynamics of the above gradient updates.\n",
    "\n",
    "**Solution:**\n",
    "\n",
    "The gradient updates are inversely proportional to the value of action. \n",
    "\n",
    "When the value of $\\pi(a)$ is small, we are (very) far from minima and thus $(1-\\pi(a))$ is large and we end up taking bigger steps and when $\\pi(a)$ is large we are close to minima thereby making $(1-\\pi(a))$ is small thus ensuring that we take smaller steps."
   ]
  },
  {
   "cell_type": "markdown",
   "metadata": {},
   "source": [
    "## Question 2\n",
    "*Designing rewards in $Q$-learning*. Suppose we are trying to solve a maze with a goal and a (stationary) monster in some location, and the goal is to reach the goal in the minimum number of moves. We are tasked with designing a suitable reward function for $Q$-learning. There are two options:\n",
    "\n",
    "- We declare a reward of +2 for reaching the goal, -1 for running into a monster, and 0 for every other move.\n",
    "- We declare a reward of +1.5 for reaching the goal, -1.5 for running into a monster, and -0.5 for every other move.\n",
    "\n",
    "Which of these reward functions might lead to better policies?"
   ]
  },
  {
   "cell_type": "markdown",
   "metadata": {},
   "source": [
    "**Solution:**\n",
    "\n",
    "Both the reward functions will give the same results.\n",
    "\n",
    "Discounted return:\n",
    "\n",
    "$G_t = r_t + \\gamma r_{t+1} + \\gamma^2 r_{t+2} + \\gamma^3 r_{t+3} + ...$\n",
    "\n",
    "For some policy $\\pi$ and state $s$, the value function could be given as:\n",
    "\n",
    "$V^{\\pi}(s) = E_{\\pi}[G_t | s_t = s]$\n",
    "\n",
    "Using the discounted reward equation, we have - \n",
    "\n",
    "$V^{\\pi}(s) = E_{\\pi}[\\sum_{k=0}^{\\infty} \\gamma^k R_{t+k+1} | s_t = s]$\n",
    "\n",
    "Adding a constant $C$ to all rewards, we then get\n",
    "\n",
    "$V'^{\\pi}(s) = E_{\\pi} [\\sum_{k=0}^{\\infty} \\gamma^k (R_{t+k+1} + C) | s_t = s]$\n",
    "\n",
    "$\\Rightarrow E_\\pi [\\sum_{k=0}^{\\infty} \\gamma^k R_{t+k+1} + C \\sum_{k=0}^{\\infty} \\gamma^k | s_t = s]$\n",
    "\n",
    "$\\Rightarrow V^\\pi + \\frac{C}{1-\\gamma}$\n",
    "\n",
    "The above equation shows how the reward changes if a constant offset is added. We can see that after adding the constant to ALL the rewards, there is no effect to the relative values of any states under ANY policies. Thus, if we change the first policy by subtracting 0.5 from any reward, it will not have any effect in choosing the optimal policy and both the reward(s) functions will yield the same results."
   ]
  },
  {
   "cell_type": "markdown",
   "metadata": {},
   "source": [
    "---"
   ]
  },
  {
   "cell_type": "markdown",
   "metadata": {
    "id": "3avbvWtqAyiJ"
   },
   "source": [
    "## Question 3"
   ]
  },
  {
   "cell_type": "markdown",
   "metadata": {
    "id": "uYwqIKPyd0Tc"
   },
   "source": [
    "Open the (incomplete) Jupyter notebook provided as an attachment to this homework in Google Colab (or other environment of your choice) and complete the missing items. Save your finished notebook in PDF format and upload along with your answers to the above theory questions in a single PDF."
   ]
  },
  {
   "cell_type": "markdown",
   "metadata": {
    "id": "kdLtY9WviBTN"
   },
   "source": [
    "In this exercise we will train a simple Q-network in TensorFlow to solve Tic Tac Toe."
   ]
  },
  {
   "cell_type": "code",
   "execution_count": 1,
   "metadata": {
    "id": "7z29dkm2oA4_"
   },
   "outputs": [],
   "source": [
    "import random\n",
    "import collections\n",
    "import numpy as np\n",
    "import tensorflow as tf\n",
    "import matplotlib.pyplot as plt\n",
    "import matplotlib.ticker\n",
    "%matplotlib inline"
   ]
  },
  {
   "cell_type": "markdown",
   "metadata": {
    "id": "b396uo-RiNyl"
   },
   "source": [
    "Hopefully everyone has played Tic Tac Toe at some point. Here is a [reminder](https://en.wikipedia.org/wiki/Tic-tac-toe). Let us set up some helper functions to define the game itself. The typical board size is 3x3 but we will be general."
   ]
  },
  {
   "cell_type": "code",
   "execution_count": 2,
   "metadata": {
    "id": "xv_30ZVSoA4_"
   },
   "outputs": [],
   "source": [
    "def new_board(size):\n",
    "    return np.zeros(shape=(size, size))"
   ]
  },
  {
   "cell_type": "code",
   "execution_count": 3,
   "metadata": {
    "id": "nxSWzNXLoA4_"
   },
   "outputs": [],
   "source": [
    "def available_moves(board):\n",
    "    return np.argwhere(board == 0)"
   ]
  },
  {
   "cell_type": "code",
   "execution_count": 4,
   "metadata": {
    "id": "pPIz-ZocoA4_"
   },
   "outputs": [],
   "source": [
    "def check_game_end(board):\n",
    "    best = max(list(board.sum(axis=0)) +    # columns\n",
    "               list(board.sum(axis=1)) +    # rows\n",
    "               [board.trace()] +            # main diagonal\n",
    "               [np.fliplr(board).trace()],  # other diagonal\n",
    "               key=abs)\n",
    "    if abs(best) == board.shape[0]: \n",
    "        return np.sign(best)  # winning player, +1 or -1\n",
    "    if available_moves(board).size == 0:\n",
    "        return 0  # a draw (otherwise, return None by default)"
   ]
  },
  {
   "cell_type": "markdown",
   "metadata": {
    "id": "YV0_JWY_iz0U"
   },
   "source": [
    "Now, let's define our players. We will define three types of bots. A *random* player picks a random position in the board each move."
   ]
  },
  {
   "cell_type": "code",
   "execution_count": 5,
   "metadata": {
    "id": "dg7huG59oA4_"
   },
   "outputs": [],
   "source": [
    "class Player():\n",
    "    def new_game(self):\n",
    "        pass\n",
    "    def reward(self, value):\n",
    "        pass\n",
    "\n",
    "class RandomPlayer(Player):\n",
    "    def move(self, board):\n",
    "        return random.choice(available_moves(board))"
   ]
  },
  {
   "cell_type": "markdown",
   "metadata": {
    "id": "LfNmM7sHjIoq"
   },
   "source": [
    "A *boring* player always picks the *first* available position on the board (measured from top-left to bottom-right)."
   ]
  },
  {
   "cell_type": "code",
   "execution_count": 6,
   "metadata": {
    "id": "BH3F96S0oA4_"
   },
   "outputs": [],
   "source": [
    "class BoringPlayer(Player):\n",
    "    def move(self, board):\n",
    "        return available_moves(board)[0]"
   ]
  },
  {
   "cell_type": "markdown",
   "metadata": {
    "id": "4oUX34hMj1aj"
   },
   "source": [
    "We can simulate games by playing one bot vs another. The starting player is labeled +1."
   ]
  },
  {
   "cell_type": "code",
   "execution_count": 7,
   "metadata": {
    "id": "CLcrjxQioA4_"
   },
   "outputs": [],
   "source": [
    "def play(board, player_objs):\n",
    "    for player in [+1, -1]:\n",
    "        player_objs[player].new_game()\n",
    "    player = +1\n",
    "    game_end = check_game_end(board)\n",
    "    while game_end is None:\n",
    "        move = player_objs[player].move(board)\n",
    "        board[tuple(move)] = player\n",
    "        game_end = check_game_end(board)\n",
    "        player *= -1  # switch players after each move\n",
    "    for player in [+1, -1]:\n",
    "        # the reward for wins is +1, and -1 for draws/losses\n",
    "        reward_value = +1 if player == game_end else -1\n",
    "        player_objs[player].reward(reward_value)\n",
    "    return game_end"
   ]
  },
  {
   "cell_type": "markdown",
   "metadata": {
    "id": "E8s7bzXweUVc"
   },
   "source": [
    "### 3.1 | Random vs. Random"
   ]
  },
  {
   "cell_type": "code",
   "execution_count": 8,
   "metadata": {
    "colab": {
     "base_uri": "https://localhost:8080/"
    },
    "id": "-InFBCMooA4_",
    "outputId": "f31f1311-6ae9-4c31-a06b-5001076b06ee"
   },
   "outputs": [
    {
     "name": "stdout",
     "output_type": "stream",
     "text": [
      "Player 1 Wins  1194  games\n",
      "Player 2 Wins  564  games\n",
      "Number of Draw Games:  242\n"
     ]
    }
   ],
   "source": [
    "# 3x3, random vs. random\n",
    "random.seed(1)\n",
    "\n",
    "# TODO Q1. Play 2000 games between two bots, both of them random players.\n",
    "# Print the number of wins by Player 1, number of wins by Player 2, and draws.\n",
    "# Plot (as a function of game index) the moving average of game outcomes\n",
    "# over a window of size 500. \n",
    "# You might find the following functions helpful for plotting.\n",
    "\n",
    "games = 2000\n",
    "results = [None]*2000\n",
    "\n",
    "for i in range(games):\n",
    "  results[i] = play(new_board(3), {+1: RandomPlayer(), -1: RandomPlayer()})\n",
    "\n",
    "P1_win = 0\n",
    "P2_win = 0\n",
    "draw = 0\n",
    "\n",
    "for result in results:\n",
    "  if result == 1.0:\n",
    "    P1_win += 1\n",
    "  elif result == -1.0:\n",
    "    P2_win +=1\n",
    "  else:\n",
    "    draw += 1\n",
    "\n",
    "print(\"Player 1 Wins \", P1_win, \" games\")\n",
    "print(\"Player 2 Wins \", P2_win, \" games\")\n",
    "print(\"Number of Draw Games: \", draw)"
   ]
  },
  {
   "cell_type": "code",
   "execution_count": 9,
   "metadata": {
    "id": "vdAMumwhoA4_"
   },
   "outputs": [],
   "source": [
    "def moving(data, value=+1, size = 500): # calculates a moving average\n",
    "    binary_data = [x == value for x in data]\n",
    "    return [sum(binary_data[i-size:i])/size for i in range(size, len(data) + 1)]\n",
    "\n",
    "def show(results, size=500, title='Moving average of game outcomes',\n",
    "         first_label='First Player Wins', second_label='Second Player Wins', draw_label='Draw'):\n",
    "    x_values = range(size, len(results) + 1)\n",
    "    first = moving(results, value=+1, size=size)\n",
    "    second = moving(results, value=-1, size=size)\n",
    "    draw = moving(results, value=0, size=size)\n",
    "    first, = plt.plot(x_values, first, color='red', label=first_label)\n",
    "    second, = plt.plot(x_values, second, color='blue', label=second_label)\n",
    "    draw, = plt.plot(x_values, draw, color='grey', label=draw_label)\n",
    "    plt.xlim([0, len(results)])\n",
    "    plt.ylim([0, 1])\n",
    "    plt.title(title)\n",
    "    plt.legend(handles=[first, second, draw], loc='best')\n",
    "    ax = plt.gca()\n",
    "    ax.yaxis.set_major_formatter(matplotlib.ticker.PercentFormatter(xmax=1))\n",
    "    ax.xaxis.set_major_formatter(matplotlib.ticker.StrMethodFormatter('{x:,.0f}'))\n",
    "    plt.ylabel(f'Rate over last {size} games')\n",
    "    plt.xlabel('Game index')\n",
    "    plt.show()"
   ]
  },
  {
   "cell_type": "code",
   "execution_count": 10,
   "metadata": {
    "colab": {
     "base_uri": "https://localhost:8080/",
     "height": 295
    },
    "id": "Hrm1lZlb7Ovn",
    "outputId": "d8d3068c-ec05-4c9f-9f13-f6eceb7ac897"
   },
   "outputs": [
    {
     "data": {
      "image/png": "[encoded data removed]",
      "text/plain": [
       "<Figure size 432x288 with 1 Axes>"
      ]
     },
     "metadata": {
      "needs_background": "light",
      "tags": []
     },
     "output_type": "display_data"
    }
   ],
   "source": [
    "show(results, title='GAME 1: Plot for Random vs. Random')"
   ]
  },
  {
   "cell_type": "markdown",
   "metadata": {
    "id": "VPAjo7tEexua"
   },
   "source": [
    "### 3.2 | Boring vs. Random\n",
    "\n"
   ]
  },
  {
   "cell_type": "code",
   "execution_count": 11,
   "metadata": {
    "colab": {
     "base_uri": "https://localhost:8080/"
    },
    "id": "YSTphX8_oA4_",
    "outputId": "7c91c711-6c19-4d05-dbcb-e331f04ea1d8"
   },
   "outputs": [
    {
     "name": "stdout",
     "output_type": "stream",
     "text": [
      "Player 1 Wins  1566  games\n",
      "Player 2 Wins  347  games\n",
      "Number of Draw Games:  87\n"
     ]
    }
   ],
   "source": [
    "# 3x3, random vs. boring\n",
    "\n",
    "# TODO Q2. Play 2000 games between two bots, where Player 1 is Random and Player 2 is Boring.\n",
    "# Print the number of wins by Player 1, number of wins by Player 2, and draws.\n",
    "# Plot (as a function of game index) the moving average of game outcomes.\n",
    "\n",
    "# Comment on the results. Compare with your plot above. \n",
    "#Think about why this might be happening and explain your reasons.\n",
    "\n",
    "random.seed(1)\n",
    "games = 2000\n",
    "results = [None]*2000\n",
    "\n",
    "for i in range(games):\n",
    "    results[i] = play(new_board(3), {+1: BoringPlayer(), -1: RandomPlayer()})\n",
    "\n",
    "P1_win = 0\n",
    "P2_win = 0\n",
    "draw = 0\n",
    "\n",
    "for result in results:\n",
    "    if result == 1.0:\n",
    "        P1_win += 1\n",
    "    elif result == -1.0:\n",
    "        P2_win += 1\n",
    "    else:\n",
    "        draw += 1\n",
    "\n",
    "print(\"Player 1 Wins \", P1_win, \" games\")\n",
    "print(\"Player 2 Wins \", P2_win, \" games\")\n",
    "print(\"Number of Draw Games: \", draw)"
   ]
  },
  {
   "cell_type": "code",
   "execution_count": 12,
   "metadata": {
    "colab": {
     "base_uri": "https://localhost:8080/",
     "height": 295
    },
    "id": "USFcVa8g7NL8",
    "outputId": "00e00c2a-e4ff-4087-af8a-95dbb5c8f601"
   },
   "outputs": [
    {
     "data": {
      "image/png": "[encoded data removed]",
      "text/plain": [
       "<Figure size 432x288 with 1 Axes>"
      ]
     },
     "metadata": {
      "needs_background": "light",
      "tags": []
     },
     "output_type": "display_data"
    }
   ],
   "source": [
    "show(results, title='GAME 2: Plot for Boring vs. Random')"
   ]
  },
  {
   "cell_type": "markdown",
   "metadata": {
    "id": "5dIzxYWj8Mq1"
   },
   "source": [
    "Comparing the results between `GAME 1: Plot for Random vs. Random` and `GAME 2: Plot for Boring vs. Random`\n",
    "\n",
    "![alt-text-1](data:image/png;base64,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) ![alt-text-2](data:image/png;base64,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)"
   ]
  },
  {
   "cell_type": "markdown",
   "metadata": {
    "id": "hXyKRcgz8zEV"
   },
   "source": [
    "Based on visual inspection, we can judge that when a player is 'boring' or when the player just picks the first available move rather than picking any at random, the player has a higher chance of winning.\n",
    "\n",
    "The odds of Player 1 winning when the play style is shifted from Random to Boring have increased from roughly 0.6 to 0.8. Player 1's wins have most certainly impacted the winning chances of Player 2 or even ending the game with a draw (or no decision). \n",
    "\n",
    "It is pretty clear that once a player shifts the play style from playing completely random moves to making the first available move, the odds of ending the game in a draw or even losing reduce significantly.\n"
   ]
  },
  {
   "cell_type": "markdown",
   "metadata": {
    "id": "pDKIXwThe3_C"
   },
   "source": [
    "### 3.3 | Implement the \"move\" method"
   ]
  },
  {
   "cell_type": "markdown",
   "metadata": {
    "id": "GRwAxMN8l1fJ"
   },
   "source": [
    "We will now use Q-learning using a neural network to train an RL agent. \n",
    "\n",
    "The Q-function will be parametrically represented via a very simple single layer with linear activations (essentially, a linear model).\n",
    "\n",
    "Complete the Q-learning part in the code snippet below.\n",
    "\n"
   ]
  },
  {
   "cell_type": "code",
   "execution_count": 13,
   "metadata": {
    "id": "5PSqOYqVoA5A"
   },
   "outputs": [],
   "source": [
    "class Agent(Player):\n",
    "\n",
    "    # Define single layer Q-network, MSE loss, and SGD optimizer\n",
    "    def __init__(self, size, seed):\n",
    "        self.size = size\n",
    "        self.training = True\n",
    "        self.model = tf.keras.Sequential()\n",
    "        self.model.add(tf.keras.layers.Dense(\n",
    "            size**2,\n",
    "            kernel_initializer=tf.keras.initializers.glorot_uniform(seed=seed)))\n",
    "        self.model.compile(optimizer='sgd', loss='mean_squared_error')\n",
    "\n",
    "    # Helper function to predict the Q-function\n",
    "    def predict_q(self, board):\n",
    "        return self.model.predict(\n",
    "            np.array([board.ravel()])).reshape(self.size, self.size)\n",
    "\n",
    "    # Helper function to train the network\n",
    "    def fit_q(self, board, q_values):\n",
    "        self.model.fit(\n",
    "            np.array([board.ravel()]), np.array([q_values.ravel()]), verbose=0)\n",
    "\n",
    "    # The agent preserves history, which is reset when a new game starts.\n",
    "    def new_game(self):\n",
    "        self.last_move = None\n",
    "        self.board_history = []\n",
    "        self.q_history = []\n",
    "\n",
    "    # TODO Q3: Implement the \"move\" method below.\n",
    "    # The \"move\" method should use the output of the Q-network \n",
    "    # that you defined above to pick the next best move.\n",
    "    # Make sure you are only picking \"legal\" moves. \n",
    "\n",
    "    def move(self, board):\n",
    "        # ... COMPLETE THIS\n",
    "\n",
    "        q_values = self.predict_q(board)\n",
    "        temp = q_values.copy()\n",
    "        temp[board != 0] = temp.min() - 1 \n",
    "        move = np.unravel_index(np.argmax(temp), board.shape)\n",
    "        value = temp.max()\n",
    "\n",
    "        if self.last_move is not None:\n",
    "            self.reward(value)\n",
    "        self.board_history.append(board.copy())\n",
    "        self.q_history.append(q_values)\n",
    "        return move\n",
    "\n",
    "    # After picking the move, we call the reward method.\n",
    "    # The reward method trains the Q-network, updating the Q-values with \n",
    "    # a new estimate for the last move. This is the Bellman update.\n",
    "    def reward(self, reward_value):\n",
    "        if not self.training:\n",
    "            return\n",
    "        new_q = self.q_history[-1].copy()\n",
    "        new_q[self.last_move] = reward_value\n",
    "        self.fit_q(self.board_history[-1], new_q)"
   ]
  },
  {
   "cell_type": "markdown",
   "metadata": {
    "id": "8dln99EFfAGc"
   },
   "source": [
    "### 3.4 | q-Agent vs. Random"
   ]
  },
  {
   "cell_type": "code",
   "execution_count": 14,
   "metadata": {
    "colab": {
     "base_uri": "https://localhost:8080/"
    },
    "id": "RQc7ENOnoA5A",
    "outputId": "d64fbd44-b50a-4b01-9c58-e4cb0f683222"
   },
   "outputs": [
    {
     "name": "stdout",
     "output_type": "stream",
     "text": [
      "Player 1 Wins  1225  games\n",
      "Player 2 Wins  627  games\n",
      "Number of Draw Games:  148\n"
     ]
    }
   ],
   "source": [
    "# 3x3, q-learning vs. random\n",
    "\n",
    "# TODO Q4. Play 2000 games, where Player 1 is a Q-network and Player 2 is Random.\n",
    "# Print the number of wins by Player 1, number of wins by Player 2, and draws.\n",
    "# Plot (as a function of game index) the moving average of game outcomes.\n",
    "\n",
    "random.seed(1)\n",
    "games = 2000\n",
    "results=[None] * 2000\n",
    "\n",
    "agent = Agent(3, seed=4)\n",
    "for i in range(games):\n",
    "    results[i] = play(new_board(3), {+1: agent, -1: RandomPlayer()})\n",
    "\n",
    "P1_win = 0\n",
    "P2_win = 0\n",
    "draw = 0\n",
    "\n",
    "for result in results:\n",
    "    if result == 1.0:\n",
    "        P1_win += 1\n",
    "    elif result == -1.0:\n",
    "        P2_win += 1\n",
    "    else:\n",
    "        draw += 1\n",
    "\n",
    "print(\"Player 1 Wins \", P1_win, \" games\")\n",
    "print(\"Player 2 Wins \", P2_win, \" games\")\n",
    "print(\"Number of Draw Games: \", draw)"
   ]
  },
  {
   "cell_type": "code",
   "execution_count": 15,
   "metadata": {
    "colab": {
     "base_uri": "https://localhost:8080/",
     "height": 295
    },
    "id": "GRsvbrYg7etD",
    "outputId": "588ea075-31a1-47ee-d9e5-789d82b32f7b"
   },
   "outputs": [
    {
     "data": {
      "image/png": "[encoded data removed]",
      "text/plain": [
       "<Figure size 432x288 with 1 Axes>"
      ]
     },
     "metadata": {
      "needs_background": "light",
      "tags": []
     },
     "output_type": "display_data"
    }
   ],
   "source": [
    "show(results, title='GAME 3: Plot for Q-Agent vs. Random')"
   ]
  }
 ],
 "metadata": {
  "colab": {
   "name": "hw5prob3.ipynb",
   "provenance": [],
   "toc_visible": true
  },
  "kernelspec": {
   "display_name": "Python 3",
   "language": "python",
   "name": "python3"
  },
  "language_info": {
   "codemirror_mode": {
    "name": "ipython",
    "version": 3
   },
   "file_extension": ".py",
   "mimetype": "text/x-python",
   "name": "python",
   "nbconvert_exporter": "python",
   "pygments_lexer": "ipython3",
   "version": "3.9.1"
  }
 },
 "nbformat": 4,
 "nbformat_minor": 1
}
